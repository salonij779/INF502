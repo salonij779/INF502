{
 "cells": [
  {
   "cell_type": "code",
   "execution_count": 1,
   "metadata": {},
   "outputs": [
    {
     "name": "stdout",
     "output_type": "stream",
     "text": [
      "Enter the number of wallets:5\n"
     ]
    }
   ],
   "source": [
    "number_of_wallet = int(input(\"Enter the number of wallets:\"))"
   ]
  },
  {
   "cell_type": "code",
   "execution_count": 3,
   "metadata": {},
   "outputs": [
    {
     "name": "stdout",
     "output_type": "stream",
     "text": [
      "Enter money in the wallet:\n",
      "54\n",
      "69\n",
      "14\n",
      "78\n",
      "32\n",
      "[54, 69, 14, 78, 32]\n"
     ]
    }
   ],
   "source": [
    "lst = []\n",
    "print(\"Enter money($) in the wallet:\")\n",
    "for i in range(0, number_of_wallet): \n",
    "    money = int(input()) \n",
    "    lst.append(money) # adding money to the wallet \n",
    "print(lst) "
   ]
  },
  {
   "cell_type": "code",
   "execution_count": 5,
   "metadata": {},
   "outputs": [
    {
     "name": "stdout",
     "output_type": "stream",
     "text": [
      "The fattest wallet has $ value in it: 78\n"
     ]
    }
   ],
   "source": [
    "print(\"The fattest wallet has $ value in it:\",max(lst))"
   ]
  },
  {
   "cell_type": "code",
   "execution_count": 6,
   "metadata": {},
   "outputs": [
    {
     "name": "stdout",
     "output_type": "stream",
     "text": [
      "The skinniest wallet has $ value in it: 14\n",
      "All together, these wallets have $ value in them: 247\n"
     ]
    }
   ],
   "source": [
    "print(\"The skinniest wallet has $ value in it:\",min(lst))\n",
    "print(\"All together, these wallets have $ value in them:\",sum(lst))"
   ]
  },
  {
   "cell_type": "code",
   "execution_count": 7,
   "metadata": {},
   "outputs": [
    {
     "name": "stdout",
     "output_type": "stream",
     "text": [
      "All together, the total value of these wallets is worth $ dimes: 2470\n"
     ]
    }
   ],
   "source": [
    "money_in_dimes = sum(lst)*10;\n",
    "print(\"All together, the total value of these wallets is worth $ dimes:\",money_in_dimes)"
   ]
  },
  {
   "cell_type": "code",
   "execution_count": null,
   "metadata": {},
   "outputs": [],
   "source": []
  }
 ],
 "metadata": {
  "kernelspec": {
   "display_name": "Python 3",
   "language": "python",
   "name": "python3"
  },
  "language_info": {
   "codemirror_mode": {
    "name": "ipython",
    "version": 3
   },
   "file_extension": ".py",
   "mimetype": "text/x-python",
   "name": "python",
   "nbconvert_exporter": "python",
   "pygments_lexer": "ipython3",
   "version": "3.7.6"
  }
 },
 "nbformat": 4,
 "nbformat_minor": 4
}
