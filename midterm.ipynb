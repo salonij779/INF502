{
 "cells": [
  {
   "cell_type": "markdown",
   "metadata": {},
   "source": [
    "MID-TERM 2020\n",
    "Team Members:\n",
    "1. Michael Partridge\n",
    "2. Gorkem Nisanci\n",
    "3. Saloni Jain"
   ]
  },
  {
   "cell_type": "markdown",
   "metadata": {},
   "source": [
    "## Question 1:b Write a program to calculate the following series, given the “n” input by the user.\n",
    "1 + 1/2 + 1/3 + 1/4 + ... 1/n\n",
    "\n",
    "Approach: The code asks an integer input from the user.It uses exception handling to make sure the value is an integer. \n",
    "Also it checks if the value is greater than zero. If the value is not greater than zero, it does not kae sense to calculate \n",
    "the series. Then code calls the function called b_1 with the integer value received. The function again checks to kae sure \n",
    "that it received a value greater than zero. It uses a for loop to calculate the series and returns the result \"sum\" . Sum is \n",
    "a float number. Since the loop counter \"i\" always starts from zero and we always divide by \"i+1\", there is no risk to divide \n",
    "by zero."
   ]
  },
  {
   "cell_type": "code",
   "execution_count": 3,
   "metadata": {},
   "outputs": [
    {
     "name": "stdout",
     "output_type": "stream",
     "text": [
      "Enter a integer greater than zero: 2\n",
      "The result of the series is 1.5\n"
     ]
    }
   ],
   "source": [
    "def b_1(n):\n",
    "    sum=0\n",
    "    if (n>0):\n",
    "        for i in range(n):\n",
    "            sum+=1/(i+1)\n",
    "\n",
    "    return sum\n",
    "\n",
    "\n",
    "try:\n",
    "    n = int(input(\"Enter a integer greater than zero: \"))\n",
    "\n",
    "except ValueError: \n",
    "    print(\"Please Enter an Integer ! \")\n",
    "except:\n",
    "    print(\"There is an ERROR !\")\n",
    "else:\n",
    "    if (n<=0):\n",
    "        print(\"Please enter a value greater than ZERO\")\n",
    "    print(\"The result of the series is \"+str(b_1(n)))"
   ]
  },
  {
   "cell_type": "markdown",
   "metadata": {},
   "source": [
    "## Question 1:c Write a function that tests whether a string is a palindrome or not.\n",
    "\n",
    "Approach: The user enters a string and we pass that string to a function where we create a reverse of thet string using the \n",
    "function reverse(string) and then compare the original and the reversed string to check if they match or not. \n",
    "If they do match the string entered by the user is a palindrome. "
   ]
  },
  {
   "cell_type": "code",
   "execution_count": 7,
   "metadata": {},
   "outputs": [
    {
     "name": "stdout",
     "output_type": "stream",
     "text": [
      "Check if the string is palindrome or not.\n",
      "Enter the string: meaame\n",
      "meaame is not a palindrome\n"
     ]
    }
   ],
   "source": [
    "def palindrome(original_string):\n",
    "    original_string_rev = ''.join(reversed(original_string))\n",
    "    return original_string == original_string_rev\n",
    "\n",
    "\n",
    "print('Check if the string is palindrome or not.')\n",
    "\n",
    "try:\n",
    "    palindrome_str = input('Enter the string: ')\n",
    "    if not palindrome_str:\n",
    "        raise ValueError('empty string')\n",
    "    else:\n",
    "        if palindrome(palindrome_str):\n",
    "            print(palindrome_str + ' is a palindrome.')\n",
    "        else:\n",
    "            print(palindrome_str + ' is not a palindrome')\n",
    "except ValueError:\n",
    "    print('Input string cannot be empty.')"
   ]
  },
  {
   "cell_type": "markdown",
   "metadata": {},
   "source": [
    "## Question 2:a. Ask the user to enter 5 integer values between 1 and 20. Create a horizontal bar graph (with the numbers entered by the user), using “*” to represent the value.\n",
    "\n",
    "\n",
    "Approach: I knew I had to run a for loop it range of the entered number to print the asterisks. The hard part was \n",
    "converting user input to a list of integers. I found out a good use for list comprehension, which made the code a one liner."
   ]
  },
  {
   "cell_type": "code",
   "execution_count": 13,
   "metadata": {},
   "outputs": [
    {
     "name": "stdout",
     "output_type": "stream",
     "text": [
      "Enter 5 comma separated numbers between 1 and 20: 2,4,6,7,8,9,0\n",
      "Error: More than 5 numbers entered by the user.\n"
     ]
    }
   ],
   "source": [
    "nums = input(\"Enter 5 comma separated numbers between 1 and 20: \").split(\",\")\n",
    "\n",
    "# convert list of strings to list of ints\n",
    "try:\n",
    "    nums = [int(num) for num in nums] # list comprehension\n",
    "    if len(nums) > 5:\n",
    "        print('Error: More than 5 numbers entered by the user.')\n",
    "    else:\n",
    "        for num in nums:\n",
    "            if (num <= 20):              \n",
    "                for iter in range(num):\n",
    "                    print(\"*\", end='')\n",
    "                print()\n",
    "            else:\n",
    "                print(\"Number out of range! {}\".format(num))\n",
    "except ValueError:\n",
    "    print(\"\\nEntry must be a number!\\nTerminating program...\\n\")\n",
    "    exit()"
   ]
  },
  {
   "cell_type": "markdown",
   "metadata": {},
   "source": [
    "### Igor\n",
    "Not treating inputs outside of the range (below 1)"
   ]
  },
  {
   "cell_type": "markdown",
   "metadata": {},
   "source": [
    "## Question 3:c Write an algorithm that, given 2 lists containing integers only, present what are the values that appear in both of them.\n",
    "\n",
    "Approach: For this problem I decided to run through one of the lists and take advantage of python's 'in' operator to \n",
    "check if any of the items in one listare 'in' the other."
   ]
  },
  {
   "cell_type": "code",
   "execution_count": 28,
   "metadata": {},
   "outputs": [
    {
     "name": "stdout",
     "output_type": "stream",
     "text": [
      "2 4 2 2 2 2 2 \n"
     ]
    }
   ],
   "source": [
    "def print_union(this_list, that_list):\n",
    "    for num in this_list:\n",
    "        if num in that_list:\n",
    "            print(num, end=' ')\n",
    "\n",
    "    print()\n",
    "\n",
    "try:\n",
    "    print_union([1, 2, 4, 1,2,2,22,2,2,2], [3, 4, 5, 6,2,3,3,2,2])\n",
    "except Exception as e:\n",
    "    print('Error: '+ str(e))"
   ]
  },
  {
   "cell_type": "markdown",
   "metadata": {},
   "source": [
    "### Igor\n",
    "When the repeated number appears more than once in the first list, it appears repeated times in the output."
   ]
  },
  {
   "cell_type": "markdown",
   "metadata": {},
   "source": [
    "## Question 3:d Write a program that returns the nth smallest and the nth largest numbers in a list. \n",
    "“n” needs to be input by the user.\n",
    "\n",
    "Approach: We sort the list in ascending order to get the nth smallest number and sort it in descending order to \n",
    "get the nth largest number."
   ]
  },
  {
   "cell_type": "code",
   "execution_count": 30,
   "metadata": {},
   "outputs": [
    {
     "name": "stdout",
     "output_type": "stream",
     "text": [
      "Finding the nth smallest and nth largest number in the list.\n",
      "Enter the value of n between values (0,8):2\n",
      "The nth smallest number in the list is :16\n",
      "[8, 16, 18, 29, 34, 54, 67, 82]\n",
      "The nth largest number in the list is :67\n",
      "[82, 67, 54, 34, 29, 18, 16, 8]\n"
     ]
    }
   ],
   "source": [
    "number_list = [18, 82, 34, 54, 67, 8, 29, 16]\n",
    "print('Finding the nth smallest and nth largest number in the list.')\n",
    "n = input('Enter the value of n between values (0,' + str(len(number_list)) + '):')\n",
    "try:\n",
    "    if not n:\n",
    "        raise ValueError('empty string')\n",
    "    else:\n",
    "        # ascending order\n",
    "        number_list.sort()\n",
    "        print('The nth smallest number in the list is :' + str(number_list[int(n) - 1]))\n",
    "        print(number_list)\n",
    "\n",
    "        # descending order\n",
    "        number_list.sort(reverse=True)\n",
    "        print('The nth largest number in the list is :' + str(number_list[int(n) - 1]))\n",
    "        print(number_list)\n",
    "except IndexError:\n",
    "        print('Value of n is out of range.')\n",
    "except ValueError:\n",
    "        print('Empty n value not allowed.')\n"
   ]
  },
  {
   "cell_type": "markdown",
   "metadata": {},
   "source": [
    "## Question 3:e Write a Python program to convert a list of positive integers into one integer, by merging them. \n",
    "Example: input: [4,12,43,10], output: 4124310\n",
    "\n",
    "Approach: The e_3 function takes a list input, take each input one by one , convert them to string and merge and save all\n",
    "the values to the variable called \"string\".\"string\" variable has the type str. Then we convert the \"string\" variable to \n",
    "integer and save it to variable called \"integer\". I used exception to terminate the program if list contains anything other \n",
    "than positive integer as shown in the examples below."
   ]
  },
  {
   "cell_type": "code",
   "execution_count": 31,
   "metadata": {},
   "outputs": [
    {
     "name": "stdout",
     "output_type": "stream",
     "text": [
      "List Input:  ['a', 12, 43, 10]\n",
      "The list contains values other than integer so process can not be completed ! \n",
      "List Input:  [4, 12, 43, 10]\n",
      "Output Integer:  4124310\n"
     ]
    }
   ],
   "source": [
    "def e_3 (list1):\n",
    "    string=\"\"\n",
    "    integer=0\n",
    "\n",
    "    try:\n",
    "        for i in list1:\n",
    "            string+=str(i)\n",
    "        integer=int(string)\n",
    "    except ValueError:\n",
    "        print(\"The list contains values other than integer so process can not be completed ! \")\n",
    "    except:\n",
    "        print(\"There is an ERROR! \")\n",
    "    else:\n",
    "        print(\"Output Integer: \",integer)\n",
    "\n",
    "\n",
    "# example list  1\n",
    "list1=[\"a\",12,43,10]\n",
    "print(\"List Input: \",list1)\n",
    "# Call the function with example list  1\n",
    "e_3 (list1)\n",
    "\n",
    "# example list  2\n",
    "list2=[4,12,43,10]\n",
    "print(\"List Input: \",list2)\n",
    "# Call the function with example list 2\n",
    "e_3 (list2)"
   ]
  },
  {
   "cell_type": "markdown",
   "metadata": {},
   "source": [
    "## Question 4:a Wikipedia has a list of the tallest mountains in the world [1] , with each mountain's elevation. Pick five mountains from this list.\n",
    "\n",
    "Create a dictionary with the mountain names as keys, and the elevations as values.\n",
    "Create a function that receives the dictionary as a parameter and prints out just the mountains' names and elevations, as a series of statements telling how tall each mountain is: \"Everest is 8848 m tall.\"\n",
    "Create a function that receives the dictionary and the name of a mountain, and removes it (please treat the exception triggered when a mountain is not found)\n",
    "Create a function to list the top 2 mountains\n",
    "https://en.wikipedia.org/wiki/List_of_highest_mountains_on_Earth\n",
    "    \n",
    "Approach: I manually entered the mountain data into a list (hardest part :), then decided to make functions for each of \n",
    "the tasks. Again, I took advantage of python's built in functions and operators to remove the dictionary entry. \n",
    "For getting the 2 largest, I used `max()` which amazingly works even on dictionaries. I made a copy of the list, got max, \n",
    "deleted max, then got max again to get the largest 2."
   ]
  },
  {
   "cell_type": "code",
   "execution_count": 32,
   "metadata": {},
   "outputs": [
    {
     "name": "stdout",
     "output_type": "stream",
     "text": [
      "List data:\n",
      "Mount Everest is 8848 m tall!\n",
      "K2 is 8611 m tall!\n",
      "Broad Peak is 8051 m tall!\n",
      "Rakaposhi is 7788 m tall!\n",
      "Nuptse is 7864 m tall!\n",
      "-\n",
      "\n",
      "Remove K2:\n",
      "K2 removed!\n",
      "-\n",
      "\n",
      "Remove K4:\n",
      "Key not found in dict\n",
      "-\n",
      "\n",
      "List data:\n",
      "Mount Everest is 8848 m tall!\n",
      "Broad Peak is 8051 m tall!\n",
      "Rakaposhi is 7788 m tall!\n",
      "Nuptse is 7864 m tall!\n",
      "-\n",
      "\n",
      "List tallest two mountains:\n",
      "Rakaposhi\n",
      "Nuptse\n",
      "-\n",
      "\n"
     ]
    }
   ],
   "source": [
    "def print_data(dict):\n",
    "    print(\"List data:\")\n",
    "\n",
    "    for key in dict:\n",
    "        print(\"{} is {} m tall!\".format(key, dict[key]))\n",
    "\n",
    "    print(\"-\\n\")\n",
    "\n",
    "\n",
    "def rm_data(dict, key):\n",
    "    print(\"Remove {}:\".format(key))\n",
    "    \n",
    "    try:\n",
    "        del dict[key]\n",
    "    except KeyError:\n",
    "        print(\"Key not found in dict\")\n",
    "    else:\n",
    "        print(\"{} removed!\".format(key))\n",
    "\n",
    "    print(\"-\\n\")\n",
    "    \n",
    "\n",
    "def list_highest_2(dict):\n",
    "    print(\"List tallest two mountains:\")\n",
    "    \n",
    "    dict_cp = dict.copy() # don't alter data\n",
    "\n",
    "    for iter in range(2):\n",
    "        max_key = max(dict_cp)\n",
    "        print(max_key)\n",
    "\n",
    "        del dict_cp[max_key]\n",
    "\n",
    "    print(\"-\\n\")\n",
    "       \n",
    "    \n",
    "mount_dict = {\"Mount Everest\": 8848,\n",
    "              \"K2\": 8611,\n",
    "              \"Broad Peak\": 8051,\n",
    "              \"Rakaposhi\": 7788,\n",
    "              \"Nuptse\": 7864}\n",
    "\n",
    "\n",
    "print_data(mount_dict)\n",
    "\n",
    "rm_data(mount_dict, \"K2\")\n",
    "rm_data(mount_dict, \"K4\")\n",
    "\n",
    "print_data(mount_dict)\n",
    "\n",
    "list_highest_2(mount_dict)"
   ]
  },
  {
   "cell_type": "markdown",
   "metadata": {},
   "source": [
    "## Question 5:b Write a program to merge the content of two files and into a new third file.\n",
    "\n",
    "Approach: User should enter the two files as input. These files will be read line by line and copied to one variable.\n",
    "The data read from both the files is then appended together and written in a file that is created by the program and \n",
    "we close the file."
   ]
  },
  {
   "cell_type": "code",
   "execution_count": 34,
   "metadata": {},
   "outputs": [
    {
     "name": "stdout",
     "output_type": "stream",
     "text": [
      "Enter filename1: ../KollaAkhilaChowdary/midterm/f1.txt\n",
      "Enter filename2: ../KollaAkhilaChowdary/midterm/f2.txt\n",
      "Data in file 1 and file 2 are printed in new_file.txt.\n"
     ]
    }
   ],
   "source": [
    "def readFile(filepath):\n",
    "    f = open(filepath, \"r\")\n",
    "    line_val = ''\n",
    "    for line in f.readlines():\n",
    "        line_val = line_val + line\n",
    "    f.close()\n",
    "    return line_val\n",
    "\n",
    "\n",
    "try:\n",
    "    filename1 = input('Enter filename1: ')\n",
    "    filename2 = input('Enter filename2: ')\n",
    "    f_txt1 = readFile(filename1)\n",
    "    f_txt2 = readFile(filename2)\n",
    "    write_text = str(f_txt1) + '\\n' + str(f_txt2)\n",
    "\n",
    "    file = open(\"new_file.txt\", \"w\")\n",
    "    file.write(write_text)\n",
    "    file.close()\n",
    "    print('Data in file 1 and file 2 are printed in new_file.txt.')\n",
    "except IOError:\n",
    "    print('Could not read file.')"
   ]
  },
  {
   "cell_type": "markdown",
   "metadata": {},
   "source": [
    "## Question 6:b Write a Python program that reads one csv file and creates a new csv file removing the first and last ‘columns’.\n",
    "\n",
    "Approach : The code reads a file called \"test.csv\" in read only mode, saves the content of the csv file into a list called \n",
    "\"list1\" and close the file.Then it removes the first end second column of the \"list1\" and saves it to an other list called\n",
    "\"list2\". After that the code opens an other csv file in write mode and write \"list2\" to the file called \"test2.csv\". \n",
    "I used exceptions to handle the errors if we can not open the files and if there is another unknown error."
   ]
  },
  {
   "cell_type": "code",
   "execution_count": 36,
   "metadata": {},
   "outputs": [],
   "source": [
    "import csv  \n",
    "\n",
    "\n",
    "file_name= \"test.csv\"\n",
    "try:\n",
    "    f1= open(file_name,'r')\n",
    "\n",
    "except IOError:\n",
    "    print(\"There is no file called \"+file_name)\n",
    "except :\n",
    "    print(\"There is an Error in opening the file called \"+file_name)\n",
    "else: \n",
    "    list1=[]\n",
    "    for line in f1.readlines():\n",
    "        line=line.rstrip('\\n')\n",
    "        list1.append(line.split(',') )\n",
    "\n",
    "    f1.close()\n",
    "\n",
    "    filename2=\"test2.csv\"\n",
    "\n",
    "    list2=[0]*len(list1)\n",
    "    i=0\n",
    "    for line in list1:\n",
    "        list2[i]=line[1:-1]\n",
    "        i+=1\n",
    "\n",
    "    try:\n",
    "        with open(filename2, 'w', newline='') as csvfile:  \n",
    "            # creating a csv writer object  \n",
    "            csvwriter = csv.writer(csvfile) \n",
    "            # writing the fields  \n",
    "\n",
    "            csvwriter.writerows(list2) \n",
    "    except IOError:\n",
    "        print(\"There is no file called \"+file_name2)\n",
    "    except: \n",
    "         print(\"There is an Error in opening the file called \"+file_name2)"
   ]
  },
  {
   "cell_type": "markdown",
   "metadata": {},
   "source": [
    "## Question 7: \n",
    "Please consider this CSV file ant_species.csv This data is part of the census of the ant community occurred every year (1977- 2009) over a two week period during July after the summer monsoons have begun. You are required to: <br />\n",
    "\n",
    "map the CSV structure to a class in Python <br />\n",
    "provide with a constructor method receiving all the attributes as parameter <br />\n",
    "create a method that enables someone to print the objects <br />\n",
    "\"genus species\" (e.g., Camponotus festinatus) <br />\n",
    "create a function (outside of the class, which will call the constructor) that receives the file and creates objects for each  row of the file<br />\n",
    "*Approach: * 1- We created a class called \"my_class\". <br />\n",
    "2- Class have 8 attributes. <br /> \n",
    "3- A constructor method is created to take all the attributes as parameter and initialize the attributes. <br />\n",
    "4- Parameters of the constructor are all string type and initialized to blank string. So if parameters are not <br />\n",
    "supplied as input, constructor initialize the attributes to blank string. <br />\n",
    "5- str method is created to enable the user to print Genus and Species attributes of the object as <br />\n",
    "print(object). <br />\n",
    "6- A function called \"A_Function\" is created to receive a file and creates objects for each row of the function. <br />\n",
    "7- The function reads a the file_name varible give as a input to the function. <br />\n",
    "8- It uses exceptions to see if any error occured during file opening process. <br />\n",
    "9- It saves the content of the file into a list called \"list1\" <br />\n",
    "10-Then it creates a list(called array) to hold the objects created.  <br />\n",
    "11-Then a loop takes the variables from the list \"list1\" and call the constructor to create an object <br />\n",
    "for each row of the list. For example, array[5] is an object with attributes of row 5 (when we remove the headers. <br />\n",
    "12- The function then returns the \"array\" variable. <br />\n",
    "\n",
    "13-Example section shows that we give a file name(\"ant_species.csv \") to the function(A_Function) and save the <br />\n",
    "list returned by the fuction to another list called \"all_classes\". Then we print an object <br />"
   ]
  },
  {
   "cell_type": "code",
   "execution_count": 41,
   "metadata": {},
   "outputs": [
    {
     "name": "stdout",
     "output_type": "stream",
     "text": [
      "There is no file called ant_species.csv \n",
      "Error in using the file.\n"
     ]
    }
   ],
   "source": [
    "class my_class : \n",
    "\n",
    "    def __init__(self,speciescode=\"\",genus=\"\",altgenus=\"\",species=\"\",altspecies=\"\",tribe=\"\",subfamily=\"\",IDissues=\"\"):\n",
    "        self.speciescode=speciescode\n",
    "        self.genus=genus \n",
    "        self.altgenus=altgenus\n",
    "        self.species=species\n",
    "        self.altspecies=altspecies\n",
    "        self.tribe=tribe\n",
    "        self.subfamily=subfamily\n",
    "        self.IDissues=IDissues\n",
    "\n",
    "    def __str__(self):\n",
    "        return \"Genus: \"+self.genus+\" Species: \"+self.species+\"\\n\"\n",
    "\n",
    "\n",
    "\n",
    "\n",
    "def A_Function(my_class ,file_name):\n",
    "\n",
    "    try:\n",
    "        f1= open(file_name,'r')\n",
    "\n",
    "    except IOError:\n",
    "        print(\"There is no file called \"+file_name)\n",
    "    except :\n",
    "        print(\"There is an Error in opening the file called \"+file_name)\n",
    "    else: \n",
    "        list1=[]\n",
    "        for line in f1.readlines():\n",
    "            line=line.rstrip('\\n')\n",
    "            list1.append(line.split(',') )\n",
    "\n",
    "        # create an array of objects \n",
    "        array=[0]*len(list1)\n",
    "        k=0\n",
    "        for i in range(len(list1)-1): \n",
    "            array[k]=my_class(list1[i+1][0],list1[i+1][1],list1[i+1][2],list1[i+1][3],list1[i+1][4],list1[i+1][5],list1[i+1][6],list1[i+1][7])\n",
    "            k+=1\n",
    "        return array\n",
    "\n",
    "\n",
    "\n",
    "# Example \n",
    "file_name=\"ant_species.csv \"\n",
    "try:\n",
    "    all_classes=A_Function(my_class,file_name)\n",
    "    print(all_classes[6])\n",
    "except:\n",
    "    print('Error in using the file.')\n"
   ]
  },
  {
   "cell_type": "markdown",
   "metadata": {},
   "source": [
    "### Igor\n",
    "Nice job. I only suggest to rethink the class name"
   ]
  }
 ],
 "metadata": {
  "kernelspec": {
   "display_name": "Python 3",
   "language": "python",
   "name": "python3"
  },
  "language_info": {
   "codemirror_mode": {
    "name": "ipython",
    "version": 3
   },
   "file_extension": ".py",
   "mimetype": "text/x-python",
   "name": "python",
   "nbconvert_exporter": "python",
   "pygments_lexer": "ipython3",
   "version": "3.7.6"
  }
 },
 "nbformat": 4,
 "nbformat_minor": 4
}
